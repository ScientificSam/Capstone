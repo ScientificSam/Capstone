{
 "cells": [
  {
   "cell_type": "code",
   "execution_count": 1,
   "id": "39769d06-1951-4465-a073-3596c083b03e",
   "metadata": {},
   "outputs": [],
   "source": [
    "import pymysql\n",
    "import pandas as pd\n",
    "import numpy as np\n",
    "import matplotlib.pyplot as plt\n",
    "import seaborn as sns\n",
    "import plotly.express as px\n",
    "import warnings\n",
    "warnings.filterwarnings('ignore')\n",
    "\n",
    "\n",
    "import statsmodels.api as sm"
   ]
  },
  {
   "cell_type": "code",
   "execution_count": 2,
   "id": "108b03e6-9d02-48d3-9908-655d58e2b45f",
   "metadata": {},
   "outputs": [],
   "source": [
    "db_name = 'capstone'\n",
    "db_host = 'localhost'\n",
    "db_user = 'root'\n",
    "db_password = 'rootroot'\n",
    "\n",
    "connection = pymysql.connect(host=db_host,\n",
    "                             user=db_user,\n",
    "                             password=db_password,\n",
    "                             db=db_name)"
   ]
  },
  {
   "cell_type": "code",
   "execution_count": 3,
   "id": "05c9c673-71ba-4e4b-98fd-3d1daad79fe4",
   "metadata": {},
   "outputs": [],
   "source": [
    "cursor = connection.cursor()\n",
    "\n",
    "# Read data from the MySQL database into a Pandas DataFrame\n",
    "df = pd.read_sql('SELECT * FROM gm_logs', connection)\n",
    "#cursor.execute('SELECT * FROM phy_err')\n",
    "#customers = cursor.fetchall()\n",
    "#df = pd.DataFrame(customers)\n",
    "\n",
    "# Close the cursor and connection\n",
    "cursor.close()\n",
    "connection.close()\n",
    "#gameid - gameinfo\n",
    "#teamid - teamstats\n",
    "# visteam,hometeam,site,number,daynihgt,innings,htbf,attendance,gametype - gameinfo\n",
    "# b_sh, b_sf, b_hbp,  b_iw , b_sb, b_cs, b_gdp, b_xi , p_wp , p_bk, d_e - teamstats"
   ]
  },
  {
   "cell_type": "code",
   "execution_count": 4,
   "id": "cba5ed73-3fdd-4932-8276-ac765f68432b",
   "metadata": {},
   "outputs": [
    {
     "name": "stdout",
     "output_type": "stream",
     "text": [
      "<class 'pandas.core.frame.DataFrame'>\n",
      "RangeIndex: 178627 entries, 0 to 178626\n",
      "Data columns (total 16 columns):\n",
      " #   Column       Non-Null Count   Dtype  \n",
      "---  ------       --------------   -----  \n",
      " 0   playdate     178627 non-null  object \n",
      " 1   day          178627 non-null  object \n",
      " 2   vteam        178627 non-null  object \n",
      " 3   daynight     178627 non-null  object \n",
      " 4   park_id      178627 non-null  object \n",
      " 5   v_hit_pitch  178625 non-null  float64\n",
      " 6   v_sh         178625 non-null  float64\n",
      " 7   v_in_walks   178625 non-null  float64\n",
      " 8   v_stlbase    178625 non-null  float64\n",
      " 9   v_cau_stl    178625 non-null  float64\n",
      " 10  v_wld_ptc    178625 non-null  float64\n",
      " 11  v_balks      178625 non-null  float64\n",
      " 12  v_assists    178625 non-null  float64\n",
      " 13  v_errors     178625 non-null  float64\n",
      " 14  v_pballs     178625 non-null  float64\n",
      " 15  v_win_val    178627 non-null  int64  \n",
      "dtypes: float64(10), int64(1), object(5)\n",
      "memory usage: 21.8+ MB\n"
     ]
    }
   ],
   "source": [
    "df.info()"
   ]
  },
  {
   "cell_type": "code",
   "execution_count": 5,
   "id": "2695230e-c1ef-4302-a539-f7e82e39949a",
   "metadata": {},
   "outputs": [
    {
     "data": {
      "text/plain": [
       "playdate       0\n",
       "day            0\n",
       "vteam          0\n",
       "daynight       0\n",
       "park_id        0\n",
       "v_hit_pitch    2\n",
       "v_sh           2\n",
       "v_in_walks     2\n",
       "v_stlbase      2\n",
       "v_cau_stl      2\n",
       "v_wld_ptc      2\n",
       "v_balks        2\n",
       "v_assists      2\n",
       "v_errors       2\n",
       "v_pballs       2\n",
       "v_win_val      0\n",
       "dtype: int64"
      ]
     },
     "execution_count": 5,
     "metadata": {},
     "output_type": "execute_result"
    }
   ],
   "source": [
    "df.isna().sum()"
   ]
  },
  {
   "cell_type": "code",
   "execution_count": 6,
   "id": "fb58026f-071d-44f9-99fd-a475a9993c86",
   "metadata": {},
   "outputs": [],
   "source": [
    "df.fillna(method='ffill',inplace=True)"
   ]
  },
  {
   "cell_type": "code",
   "execution_count": 7,
   "id": "602f7542-6421-45d8-ba20-f9f5d096ee4a",
   "metadata": {},
   "outputs": [],
   "source": [
    "\n",
    "#df['attendance']  = df['attendance'].astype(str).astype('float64') \n",
    "#set default innings\n",
    "#df['innings'].fillna(9,inplace = True)\n",
    "# htbf replace with mode - away team\n",
    "#df['htbf'].fillna(1,inplace = True)\n",
    "# Convert the attedance column to an integer column\n",
    "#df['attendance'] = pd.to_numeric(df['attendance'],errors='coerce',downcast='integer')\n",
    "#replace median attendance\n",
    "#df['attendance'].fillna(df['attendance'].mode,inplace = True)\n",
    "# Convert the attedance column to an integer column\n",
    "#df['attendance'] = pd.to_numeric(df['attendance'],errors='coerce',downcast='integer')\n",
    "#Replace daynight with day as deafult\n",
    "#df['daynight'].replace('', 'day', inplace=True)\n"
   ]
  },
  {
   "cell_type": "code",
   "execution_count": 8,
   "id": "876e5cbd-a30f-46d7-9f38-fa942c8d13f1",
   "metadata": {},
   "outputs": [],
   "source": [
    "#df.convert_dtypes()"
   ]
  },
  {
   "cell_type": "code",
   "execution_count": 9,
   "id": "8726ae2b-bc10-489c-a98d-485478642a28",
   "metadata": {},
   "outputs": [],
   "source": [
    "#df.reset_index()"
   ]
  },
  {
   "cell_type": "code",
   "execution_count": 10,
   "id": "5205e8e7-df9d-4b42-9984-957ab8e68379",
   "metadata": {},
   "outputs": [
    {
     "data": {
      "text/html": [
       "<div>\n",
       "<style scoped>\n",
       "    .dataframe tbody tr th:only-of-type {\n",
       "        vertical-align: middle;\n",
       "    }\n",
       "\n",
       "    .dataframe tbody tr th {\n",
       "        vertical-align: top;\n",
       "    }\n",
       "\n",
       "    .dataframe thead th {\n",
       "        text-align: right;\n",
       "    }\n",
       "</style>\n",
       "<table border=\"1\" class=\"dataframe\">\n",
       "  <thead>\n",
       "    <tr style=\"text-align: right;\">\n",
       "      <th></th>\n",
       "      <th>playdate</th>\n",
       "      <th>day</th>\n",
       "      <th>vteam</th>\n",
       "      <th>daynight</th>\n",
       "      <th>park_id</th>\n",
       "      <th>v_hit_pitch</th>\n",
       "      <th>v_sh</th>\n",
       "      <th>v_in_walks</th>\n",
       "      <th>v_stlbase</th>\n",
       "      <th>v_cau_stl</th>\n",
       "      <th>v_wld_ptc</th>\n",
       "      <th>v_balks</th>\n",
       "      <th>v_assists</th>\n",
       "      <th>v_errors</th>\n",
       "      <th>v_pballs</th>\n",
       "      <th>v_win_val</th>\n",
       "    </tr>\n",
       "  </thead>\n",
       "  <tbody>\n",
       "    <tr>\n",
       "      <th>0</th>\n",
       "      <td>1915-05-29</td>\n",
       "      <td>Sat</td>\n",
       "      <td>BOS</td>\n",
       "      <td>D</td>\n",
       "      <td>PHI11</td>\n",
       "      <td>0.0</td>\n",
       "      <td>3.0</td>\n",
       "      <td>0.0</td>\n",
       "      <td>1.0</td>\n",
       "      <td>1.0</td>\n",
       "      <td>0.0</td>\n",
       "      <td>0.0</td>\n",
       "      <td>17.0</td>\n",
       "      <td>3.0</td>\n",
       "      <td>0.0</td>\n",
       "      <td>1</td>\n",
       "    </tr>\n",
       "    <tr>\n",
       "      <th>1</th>\n",
       "      <td>1906-08-13</td>\n",
       "      <td>Mon</td>\n",
       "      <td>CIN</td>\n",
       "      <td>D</td>\n",
       "      <td>PHI09</td>\n",
       "      <td>0.0</td>\n",
       "      <td>0.0</td>\n",
       "      <td>-1.0</td>\n",
       "      <td>0.0</td>\n",
       "      <td>-1.0</td>\n",
       "      <td>0.0</td>\n",
       "      <td>0.0</td>\n",
       "      <td>10.0</td>\n",
       "      <td>1.0</td>\n",
       "      <td>0.0</td>\n",
       "      <td>1</td>\n",
       "    </tr>\n",
       "    <tr>\n",
       "      <th>2</th>\n",
       "      <td>1906-08-15</td>\n",
       "      <td>Wed</td>\n",
       "      <td>CHA</td>\n",
       "      <td>D</td>\n",
       "      <td>BOS06</td>\n",
       "      <td>1.0</td>\n",
       "      <td>5.0</td>\n",
       "      <td>-1.0</td>\n",
       "      <td>3.0</td>\n",
       "      <td>-1.0</td>\n",
       "      <td>0.0</td>\n",
       "      <td>0.0</td>\n",
       "      <td>12.0</td>\n",
       "      <td>0.0</td>\n",
       "      <td>1.0</td>\n",
       "      <td>0</td>\n",
       "    </tr>\n",
       "    <tr>\n",
       "      <th>3</th>\n",
       "      <td>1911-08-13</td>\n",
       "      <td>Sun</td>\n",
       "      <td>CLE</td>\n",
       "      <td>D</td>\n",
       "      <td>STL07</td>\n",
       "      <td>0.0</td>\n",
       "      <td>0.0</td>\n",
       "      <td>-1.0</td>\n",
       "      <td>1.0</td>\n",
       "      <td>-1.0</td>\n",
       "      <td>0.0</td>\n",
       "      <td>0.0</td>\n",
       "      <td>13.0</td>\n",
       "      <td>4.0</td>\n",
       "      <td>0.0</td>\n",
       "      <td>0</td>\n",
       "    </tr>\n",
       "    <tr>\n",
       "      <th>4</th>\n",
       "      <td>1911-08-13</td>\n",
       "      <td>Sun</td>\n",
       "      <td>CLE</td>\n",
       "      <td>D</td>\n",
       "      <td>STL07</td>\n",
       "      <td>0.0</td>\n",
       "      <td>1.0</td>\n",
       "      <td>-1.0</td>\n",
       "      <td>0.0</td>\n",
       "      <td>-1.0</td>\n",
       "      <td>0.0</td>\n",
       "      <td>0.0</td>\n",
       "      <td>11.0</td>\n",
       "      <td>1.0</td>\n",
       "      <td>0.0</td>\n",
       "      <td>0</td>\n",
       "    </tr>\n",
       "  </tbody>\n",
       "</table>\n",
       "</div>"
      ],
      "text/plain": [
       "     playdate  day vteam daynight park_id  v_hit_pitch  v_sh  v_in_walks  \\\n",
       "0  1915-05-29  Sat   BOS        D   PHI11          0.0   3.0         0.0   \n",
       "1  1906-08-13  Mon   CIN        D   PHI09          0.0   0.0        -1.0   \n",
       "2  1906-08-15  Wed   CHA        D   BOS06          1.0   5.0        -1.0   \n",
       "3  1911-08-13  Sun   CLE        D   STL07          0.0   0.0        -1.0   \n",
       "4  1911-08-13  Sun   CLE        D   STL07          0.0   1.0        -1.0   \n",
       "\n",
       "   v_stlbase  v_cau_stl  v_wld_ptc  v_balks  v_assists  v_errors  v_pballs  \\\n",
       "0        1.0        1.0        0.0      0.0       17.0       3.0       0.0   \n",
       "1        0.0       -1.0        0.0      0.0       10.0       1.0       0.0   \n",
       "2        3.0       -1.0        0.0      0.0       12.0       0.0       1.0   \n",
       "3        1.0       -1.0        0.0      0.0       13.0       4.0       0.0   \n",
       "4        0.0       -1.0        0.0      0.0       11.0       1.0       0.0   \n",
       "\n",
       "   v_win_val  \n",
       "0          1  \n",
       "1          1  \n",
       "2          0  \n",
       "3          0  \n",
       "4          0  "
      ]
     },
     "execution_count": 10,
     "metadata": {},
     "output_type": "execute_result"
    }
   ],
   "source": [
    "df.head()"
   ]
  },
  {
   "cell_type": "code",
   "execution_count": 11,
   "id": "10844c4f-e472-483a-a50f-59ed1e6ae586",
   "metadata": {},
   "outputs": [],
   "source": [
    "#df['hteam_win'] = np.where(df['hometeam'].eq(df['wteam']), \"win\", \"lose\")"
   ]
  },
  {
   "cell_type": "code",
   "execution_count": 12,
   "id": "2584a8a8-1bdc-4792-a844-17de0cb82c58",
   "metadata": {},
   "outputs": [],
   "source": [
    "#df['hteam_win'].value_counts()"
   ]
  },
  {
   "cell_type": "code",
   "execution_count": 13,
   "id": "5a6df09a-7f58-4987-83a5-e55e60a02d55",
   "metadata": {},
   "outputs": [
    {
     "data": {
      "text/plain": [
       "array([<Axes: title={'center': '0'}>, <Axes: title={'center': '1'}>],\n",
       "      dtype=object)"
      ]
     },
     "execution_count": 13,
     "metadata": {},
     "output_type": "execute_result"
    },
    {
     "data": {
      "image/png": "[encoded data removed]",
      "text/plain": [
       "<Figure size 640x480 with 2 Axes>"
      ]
     },
     "metadata": {},
     "output_type": "display_data"
    }
   ],
   "source": [
    "df.hist(column='day', by='v_win_val')"
   ]
  },
  {
   "cell_type": "code",
   "execution_count": 14,
   "id": "65122b44-7f07-4dbd-853a-2879370c03f8",
   "metadata": {},
   "outputs": [
    {
     "data": {
      "image/png": "[encoded data removed]",
      "text/plain": [
       "<Figure size 640x480 with 1 Axes>"
      ]
     },
     "metadata": {},
     "output_type": "display_data"
    }
   ],
   "source": [
    "# Create a bar plot\n",
    "#sns.barplot(x = \"daynight\", y = \"hteam_win\", data = df)\n",
    "# Create a count plot\n",
    "sns.countplot(x='v_win_val', hue='daynight', data=df)\n",
    "\n",
    "# Display the plot\n",
    "plt.show()"
   ]
  },
  {
   "cell_type": "code",
   "execution_count": 15,
   "id": "a2402294-75f2-4131-b5a4-ecda5ad044d9",
   "metadata": {},
   "outputs": [],
   "source": [
    "df['playdate'] = pd.to_datetime(df['playdate'])"
   ]
  },
  {
   "cell_type": "code",
   "execution_count": 16,
   "id": "52114b59-43bc-4f17-80b7-565e5cb63bbf",
   "metadata": {},
   "outputs": [],
   "source": [
    "# Get dummies for the 'A' column\n",
    "dummies = pd.get_dummies(df['v_win_val'], prefix='vwin_')\n",
    "# Add the dummy columns to the dataframe\n",
    "df = pd.concat([df, dummies], axis=1)"
   ]
  },
  {
   "cell_type": "code",
   "execution_count": 17,
   "id": "c38f0d15-f80f-4755-89a9-c5afd71d26c7",
   "metadata": {},
   "outputs": [],
   "source": [
    "# Chnage catgories to numeric\n",
    "#df['daynight'].replace({'day' : 1, 'night' : 0},inplace=True)\n",
    "# Get dummies for the 'A' column\n",
    "dummies = pd.get_dummies(df['daynight'], prefix='daynight_')\n",
    "# Add the dummy columns to the dataframe\n",
    "df = pd.concat([df, dummies], axis=1)"
   ]
  },
  {
   "cell_type": "code",
   "execution_count": 18,
   "id": "8ce4260d-f578-46d5-b666-dc62766c3ddf",
   "metadata": {},
   "outputs": [],
   "source": [
    "# Get dummies for the 'A' column\n",
    "dummies = pd.get_dummies(df['day'], prefix='day_')\n",
    "# Add the dummy columns to the dataframe\n",
    "df = pd.concat([df, dummies], axis=1)"
   ]
  },
  {
   "cell_type": "code",
   "execution_count": 19,
   "id": "e61403c6-c914-4968-abcd-569884175e7e",
   "metadata": {},
   "outputs": [],
   "source": [
    "#pd.get_dummies(df, columns=['v_win_val'], prefix='binary_' , inplace = True)\n",
    "#df_dummies = pd.get_dummies(df['v_win_val'], prefix='vteam_')"
   ]
  },
  {
   "cell_type": "code",
   "execution_count": 20,
   "id": "12c9d94e-ccc0-461e-a012-9c751b784d44",
   "metadata": {},
   "outputs": [],
   "source": [
    "# create dummy variables\n",
    "#dummies_game_type = pd.get_dummies(df['gametype'], dtype=int, prefix='gtype')\n",
    "\n",
    "# concatenate the dummy variables to the original dataframe\n",
    "#df = pd.concat([df, dummies_game_type], axis=1)"
   ]
  },
  {
   "cell_type": "code",
   "execution_count": 28,
   "id": "3b15c841-4699-4926-ba7c-c4646e2a8c81",
   "metadata": {},
   "outputs": [
    {
     "data": {
      "text/plain": [
       "v_win_val\n",
       "0    0.565917\n",
       "1    0.434083\n",
       "Name: proportion, dtype: float64"
      ]
     },
     "execution_count": 28,
     "metadata": {},
     "output_type": "execute_result"
    }
   ],
   "source": [
    "#imbalanace Traget Variable \n",
    "df['v_win_val'].value_counts(normalize=True)"
   ]
  },
  {
   "cell_type": "code",
   "execution_count": 21,
   "id": "447ade0e-3b26-48ea-b3bb-8c2b4e7cc722",
   "metadata": {},
   "outputs": [],
   "source": [
    "# drop some coulmns and create a new dataframe\n",
    "model_data = df.drop(['playdate', 'day', 'vteam', 'daynight', 'v_win_val','park_id'], axis=1)"
   ]
  },
  {
   "cell_type": "code",
   "execution_count": 22,
   "id": "40c2e8ea-ed3c-487d-942d-3ca28ee9956a",
   "metadata": {},
   "outputs": [],
   "source": [
    "# coor, Heatmap\n",
    "model_data =  model_data.astype(int)"
   ]
  },
  {
   "cell_type": "code",
   "execution_count": 23,
   "id": "4e7a6ab8-395a-4f28-90a9-09514a857995",
   "metadata": {},
   "outputs": [
    {
     "data": {
      "image/png": "[encoded data removed]",
      "text/plain": [
       "<Figure size 2000x1000 with 2 Axes>"
      ]
     },
     "metadata": {},
     "output_type": "display_data"
    }
   ],
   "source": [
    "# Let's create the correlation matrix \n",
    "corr = model_data.corr()\n",
    "plt.figure(figsize=(20,10))\n",
    "\n",
    "# Create a heatmap\n",
    "sns.heatmap(corr, cmap=\"YlGnBu\")\n",
    "plt.show()"
   ]
  },
  {
   "cell_type": "code",
   "execution_count": 24,
   "id": "bf62df2b-cb66-4330-aefe-ed2ebb32f9d4",
   "metadata": {},
   "outputs": [],
   "source": [
    "model_data.drop(columns=['vwin__0','daynight__N'] , inplace=True)"
   ]
  },
  {
   "cell_type": "code",
   "execution_count": 25,
   "id": "4c85e34a-9821-4023-b141-67ad5f0326d6",
   "metadata": {},
   "outputs": [],
   "source": [
    "# build a logistic regression model\n",
    "X = model_data.drop('vwin__1', axis=1)\n",
    "X_withconstant = sm.add_constant(X)\n",
    "y = model_data['vwin__1']"
   ]
  },
  {
   "cell_type": "code",
   "execution_count": 26,
   "id": "b09e0c93-f456-4505-8309-ec0e9c53bb5a",
   "metadata": {},
   "outputs": [
    {
     "data": {
      "text/plain": [
       "v_hit_pitch    0\n",
       "v_sh           0\n",
       "v_in_walks     0\n",
       "v_stlbase      0\n",
       "v_cau_stl      0\n",
       "v_wld_ptc      0\n",
       "v_balks        0\n",
       "v_assists      0\n",
       "v_errors       0\n",
       "v_pballs       0\n",
       "vwin__1        0\n",
       "daynight__D    0\n",
       "day__Fri       0\n",
       "day__Mon       0\n",
       "day__Sat       0\n",
       "day__Sun       0\n",
       "day__Thu       0\n",
       "day__Tue       0\n",
       "day__Wed       0\n",
       "dtype: int64"
      ]
     },
     "execution_count": 26,
     "metadata": {},
     "output_type": "execute_result"
    }
   ],
   "source": [
    "model_data.isna().sum()"
   ]
  },
  {
   "cell_type": "code",
   "execution_count": 27,
   "id": "696e4cb3-b958-4782-907f-8fb9dc9807e5",
   "metadata": {},
   "outputs": [
    {
     "name": "stdout",
     "output_type": "stream",
     "text": [
      "Optimization terminated successfully.\n",
      "         Current function value: 0.684372\n",
      "         Iterations 4\n"
     ]
    },
    {
     "data": {
      "text/html": [
       "<table class=\"simpletable\">\n",
       "<caption>Logit Regression Results</caption>\n",
       "<tr>\n",
       "  <th>Dep. Variable:</th>        <td>vwin__1</td>     <th>  No. Observations:  </th>   <td>178627</td>   \n",
       "</tr>\n",
       "<tr>\n",
       "  <th>Model:</th>                 <td>Logit</td>      <th>  Df Residuals:      </th>   <td>178609</td>   \n",
       "</tr>\n",
       "<tr>\n",
       "  <th>Method:</th>                 <td>MLE</td>       <th>  Df Model:          </th>   <td>    17</td>   \n",
       "</tr>\n",
       "<tr>\n",
       "  <th>Date:</th>            <td>Mon, 25 Mar 2024</td> <th>  Pseudo R-squ.:     </th>  <td>8.790e-05</td> \n",
       "</tr>\n",
       "<tr>\n",
       "  <th>Time:</th>                <td>09:24:19</td>     <th>  Log-Likelihood:    </th> <td>-1.2225e+05</td>\n",
       "</tr>\n",
       "<tr>\n",
       "  <th>converged:</th>             <td>True</td>       <th>  LL-Null:           </th> <td>-1.2226e+05</td>\n",
       "</tr>\n",
       "<tr>\n",
       "  <th>Covariance Type:</th>     <td>nonrobust</td>    <th>  LLR p-value:       </th>   <td>0.2051</td>   \n",
       "</tr>\n",
       "</table>\n",
       "<table class=\"simpletable\">\n",
       "<tr>\n",
       "       <td></td>          <th>coef</th>     <th>std err</th>      <th>z</th>      <th>P>|z|</th>  <th>[0.025</th>    <th>0.975]</th>  \n",
       "</tr>\n",
       "<tr>\n",
       "  <th>const</th>       <td>   -0.2287</td> <td>      nan</td> <td>      nan</td> <td>   nan</td> <td>      nan</td> <td>      nan</td>\n",
       "</tr>\n",
       "<tr>\n",
       "  <th>v_hit_pitch</th> <td>   -0.0025</td> <td>    0.009</td> <td>   -0.272</td> <td> 0.786</td> <td>   -0.020</td> <td>    0.015</td>\n",
       "</tr>\n",
       "<tr>\n",
       "  <th>v_sh</th>        <td>   -0.0009</td> <td>    0.006</td> <td>   -0.142</td> <td> 0.887</td> <td>   -0.013</td> <td>    0.012</td>\n",
       "</tr>\n",
       "<tr>\n",
       "  <th>v_in_walks</th>  <td>    0.0040</td> <td>    0.009</td> <td>    0.463</td> <td> 0.644</td> <td>   -0.013</td> <td>    0.021</td>\n",
       "</tr>\n",
       "<tr>\n",
       "  <th>v_stlbase</th>   <td>    0.0080</td> <td>    0.005</td> <td>    1.523</td> <td> 0.128</td> <td>   -0.002</td> <td>    0.018</td>\n",
       "</tr>\n",
       "<tr>\n",
       "  <th>v_cau_stl</th>   <td>   -0.0040</td> <td>    0.008</td> <td>   -0.505</td> <td> 0.613</td> <td>   -0.019</td> <td>    0.011</td>\n",
       "</tr>\n",
       "<tr>\n",
       "  <th>v_wld_ptc</th>   <td>    0.0044</td> <td>    0.009</td> <td>    0.516</td> <td> 0.606</td> <td>   -0.012</td> <td>    0.021</td>\n",
       "</tr>\n",
       "<tr>\n",
       "  <th>v_balks</th>     <td>    0.0232</td> <td>    0.024</td> <td>    0.979</td> <td> 0.328</td> <td>   -0.023</td> <td>    0.070</td>\n",
       "</tr>\n",
       "<tr>\n",
       "  <th>v_assists</th>   <td>   -0.0015</td> <td>    0.001</td> <td>   -1.052</td> <td> 0.293</td> <td>   -0.004</td> <td>    0.001</td>\n",
       "</tr>\n",
       "<tr>\n",
       "  <th>v_errors</th>    <td>    0.0084</td> <td>    0.005</td> <td>    1.747</td> <td> 0.081</td> <td>   -0.001</td> <td>    0.018</td>\n",
       "</tr>\n",
       "<tr>\n",
       "  <th>v_pballs</th>    <td>   -0.0094</td> <td>    0.016</td> <td>   -0.577</td> <td> 0.564</td> <td>   -0.041</td> <td>    0.023</td>\n",
       "</tr>\n",
       "<tr>\n",
       "  <th>daynight__D</th> <td>    0.0019</td> <td>    0.011</td> <td>    0.173</td> <td> 0.863</td> <td>   -0.020</td> <td>    0.024</td>\n",
       "</tr>\n",
       "<tr>\n",
       "  <th>day__Fri</th>    <td>   -0.0398</td> <td>      nan</td> <td>      nan</td> <td>   nan</td> <td>      nan</td> <td>      nan</td>\n",
       "</tr>\n",
       "<tr>\n",
       "  <th>day__Mon</th>    <td>   -0.0323</td> <td>      nan</td> <td>      nan</td> <td>   nan</td> <td>      nan</td> <td>      nan</td>\n",
       "</tr>\n",
       "<tr>\n",
       "  <th>day__Sat</th>    <td>   -0.0171</td> <td>      nan</td> <td>      nan</td> <td>   nan</td> <td>      nan</td> <td>      nan</td>\n",
       "</tr>\n",
       "<tr>\n",
       "  <th>day__Sun</th>    <td>   -0.0548</td> <td>      nan</td> <td>      nan</td> <td>   nan</td> <td>      nan</td> <td>      nan</td>\n",
       "</tr>\n",
       "<tr>\n",
       "  <th>day__Thu</th>    <td>    0.0022</td> <td>      nan</td> <td>      nan</td> <td>   nan</td> <td>      nan</td> <td>      nan</td>\n",
       "</tr>\n",
       "<tr>\n",
       "  <th>day__Tue</th>    <td>   -0.0431</td> <td>      nan</td> <td>      nan</td> <td>   nan</td> <td>      nan</td> <td>      nan</td>\n",
       "</tr>\n",
       "<tr>\n",
       "  <th>day__Wed</th>    <td>   -0.0437</td> <td>      nan</td> <td>      nan</td> <td>   nan</td> <td>      nan</td> <td>      nan</td>\n",
       "</tr>\n",
       "</table>"
      ],
      "text/latex": [
       "\\begin{center}\n",
       "\\begin{tabular}{lclc}\n",
       "\\toprule\n",
       "\\textbf{Dep. Variable:}   &    vwin\\_\\_1     & \\textbf{  No. Observations:  } &    178627    \\\\\n",
       "\\textbf{Model:}           &      Logit       & \\textbf{  Df Residuals:      } &    178609    \\\\\n",
       "\\textbf{Method:}          &       MLE        & \\textbf{  Df Model:          } &        17    \\\\\n",
       "\\textbf{Date:}            & Mon, 25 Mar 2024 & \\textbf{  Pseudo R-squ.:     } &  8.790e-05   \\\\\n",
       "\\textbf{Time:}            &     09:24:19     & \\textbf{  Log-Likelihood:    } & -1.2225e+05  \\\\\n",
       "\\textbf{converged:}       &       True       & \\textbf{  LL-Null:           } & -1.2226e+05  \\\\\n",
       "\\textbf{Covariance Type:} &    nonrobust     & \\textbf{  LLR p-value:       } &    0.2051    \\\\\n",
       "\\bottomrule\n",
       "\\end{tabular}\n",
       "\\begin{tabular}{lcccccc}\n",
       "                       & \\textbf{coef} & \\textbf{std err} & \\textbf{z} & \\textbf{P$> |$z$|$} & \\textbf{[0.025} & \\textbf{0.975]}  \\\\\n",
       "\\midrule\n",
       "\\textbf{const}         &      -0.2287  &          nan     &       nan  &           nan        &          nan    &          nan     \\\\\n",
       "\\textbf{v\\_hit\\_pitch} &      -0.0025  &        0.009     &    -0.272  &         0.786        &       -0.020    &        0.015     \\\\\n",
       "\\textbf{v\\_sh}         &      -0.0009  &        0.006     &    -0.142  &         0.887        &       -0.013    &        0.012     \\\\\n",
       "\\textbf{v\\_in\\_walks}  &       0.0040  &        0.009     &     0.463  &         0.644        &       -0.013    &        0.021     \\\\\n",
       "\\textbf{v\\_stlbase}    &       0.0080  &        0.005     &     1.523  &         0.128        &       -0.002    &        0.018     \\\\\n",
       "\\textbf{v\\_cau\\_stl}   &      -0.0040  &        0.008     &    -0.505  &         0.613        &       -0.019    &        0.011     \\\\\n",
       "\\textbf{v\\_wld\\_ptc}   &       0.0044  &        0.009     &     0.516  &         0.606        &       -0.012    &        0.021     \\\\\n",
       "\\textbf{v\\_balks}      &       0.0232  &        0.024     &     0.979  &         0.328        &       -0.023    &        0.070     \\\\\n",
       "\\textbf{v\\_assists}    &      -0.0015  &        0.001     &    -1.052  &         0.293        &       -0.004    &        0.001     \\\\\n",
       "\\textbf{v\\_errors}     &       0.0084  &        0.005     &     1.747  &         0.081        &       -0.001    &        0.018     \\\\\n",
       "\\textbf{v\\_pballs}     &      -0.0094  &        0.016     &    -0.577  &         0.564        &       -0.041    &        0.023     \\\\\n",
       "\\textbf{daynight\\_\\_D} &       0.0019  &        0.011     &     0.173  &         0.863        &       -0.020    &        0.024     \\\\\n",
       "\\textbf{day\\_\\_Fri}    &      -0.0398  &          nan     &       nan  &           nan        &          nan    &          nan     \\\\\n",
       "\\textbf{day\\_\\_Mon}    &      -0.0323  &          nan     &       nan  &           nan        &          nan    &          nan     \\\\\n",
       "\\textbf{day\\_\\_Sat}    &      -0.0171  &          nan     &       nan  &           nan        &          nan    &          nan     \\\\\n",
       "\\textbf{day\\_\\_Sun}    &      -0.0548  &          nan     &       nan  &           nan        &          nan    &          nan     \\\\\n",
       "\\textbf{day\\_\\_Thu}    &       0.0022  &          nan     &       nan  &           nan        &          nan    &          nan     \\\\\n",
       "\\textbf{day\\_\\_Tue}    &      -0.0431  &          nan     &       nan  &           nan        &          nan    &          nan     \\\\\n",
       "\\textbf{day\\_\\_Wed}    &      -0.0437  &          nan     &       nan  &           nan        &          nan    &          nan     \\\\\n",
       "\\bottomrule\n",
       "\\end{tabular}\n",
       "%\\caption{Logit Regression Results}\n",
       "\\end{center}"
      ],
      "text/plain": [
       "<class 'statsmodels.iolib.summary.Summary'>\n",
       "\"\"\"\n",
       "                           Logit Regression Results                           \n",
       "==============================================================================\n",
       "Dep. Variable:                vwin__1   No. Observations:               178627\n",
       "Model:                          Logit   Df Residuals:                   178609\n",
       "Method:                           MLE   Df Model:                           17\n",
       "Date:                Mon, 25 Mar 2024   Pseudo R-squ.:               8.790e-05\n",
       "Time:                        09:24:19   Log-Likelihood:            -1.2225e+05\n",
       "converged:                       True   LL-Null:                   -1.2226e+05\n",
       "Covariance Type:            nonrobust   LLR p-value:                    0.2051\n",
       "===============================================================================\n",
       "                  coef    std err          z      P>|z|      [0.025      0.975]\n",
       "-------------------------------------------------------------------------------\n",
       "const          -0.2287        nan        nan        nan         nan         nan\n",
       "v_hit_pitch    -0.0025      0.009     -0.272      0.786      -0.020       0.015\n",
       "v_sh           -0.0009      0.006     -0.142      0.887      -0.013       0.012\n",
       "v_in_walks      0.0040      0.009      0.463      0.644      -0.013       0.021\n",
       "v_stlbase       0.0080      0.005      1.523      0.128      -0.002       0.018\n",
       "v_cau_stl      -0.0040      0.008     -0.505      0.613      -0.019       0.011\n",
       "v_wld_ptc       0.0044      0.009      0.516      0.606      -0.012       0.021\n",
       "v_balks         0.0232      0.024      0.979      0.328      -0.023       0.070\n",
       "v_assists      -0.0015      0.001     -1.052      0.293      -0.004       0.001\n",
       "v_errors        0.0084      0.005      1.747      0.081      -0.001       0.018\n",
       "v_pballs       -0.0094      0.016     -0.577      0.564      -0.041       0.023\n",
       "daynight__D     0.0019      0.011      0.173      0.863      -0.020       0.024\n",
       "day__Fri       -0.0398        nan        nan        nan         nan         nan\n",
       "day__Mon       -0.0323        nan        nan        nan         nan         nan\n",
       "day__Sat       -0.0171        nan        nan        nan         nan         nan\n",
       "day__Sun       -0.0548        nan        nan        nan         nan         nan\n",
       "day__Thu        0.0022        nan        nan        nan         nan         nan\n",
       "day__Tue       -0.0431        nan        nan        nan         nan         nan\n",
       "day__Wed       -0.0437        nan        nan        nan         nan         nan\n",
       "===============================================================================\n",
       "\"\"\""
      ]
     },
     "execution_count": 27,
     "metadata": {},
     "output_type": "execute_result"
    }
   ],
   "source": [
    "model = sm.Logit(y, X_withconstant)\n",
    "model = model.fit()\n",
    "\n",
    "model.summary()"
   ]
  }
 ],
 "metadata": {
  "kernelspec": {
   "display_name": "Python 3 (ipykernel)",
   "language": "python",
   "name": "python3"
  },
  "language_info": {
   "codemirror_mode": {
    "name": "ipython",
    "version": 3
   },
   "file_extension": ".py",
   "mimetype": "text/x-python",
   "name": "python",
   "nbconvert_exporter": "python",
   "pygments_lexer": "ipython3",
   "version": "3.11.7"
  }
 },
 "nbformat": 4,
 "nbformat_minor": 5
}
